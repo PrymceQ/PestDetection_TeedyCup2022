{
 "cells": [
  {
   "cell_type": "code",
   "execution_count": 7,
   "metadata": {},
   "outputs": [],
   "source": [
    "import pandas as pd\n",
    "import numpy as np\n",
    "\n",
    "thresh = 0.8\n",
    " \n",
    "def py_cpu_nms(dets,  thresh):\n",
    "    \"\"\"Pure Python NMS baseline.\"\"\"\n",
    "    x1 = dets[:, 0]  #xmin\n",
    "    y1 = dets[:, 1]  #ymin\n",
    "    x2 = dets[:, 2]  #xmax\n",
    "    y2 = dets[:, 3]  #ymax\n",
    "    scores = dets[:, 4]  #confidence\n",
    " \n",
    "    areas = (x2 - x1 + 1) * (y2 - y1 + 1)  #the size of bbox\n",
    "    order = scores.argsort()[::-1]  #sort bounding boxes by decreasing order, returning array([3, 1, 2, 0])\n",
    " \n",
    "    keep = []        # store the final bounding boxes\n",
    "    while order.size > 0:\n",
    "        i = order[0]      # 永远取置信率最高的框作为物体的最佳框\n",
    "        keep.append(i)    # 保存起来\n",
    " \n",
    "        # 获取两个框相交矩形的坐标\n",
    "        # 左上角坐标取二者最大；右下角取二者最小\n",
    "        xx1 = np.maximum(x1[i], x1[order[1:]]) #array([ 257.,  280.,  255.])\n",
    "        yy1 = np.maximum(y1[i], y1[order[1:]]) #array([ 118.,  135.,  118.])\n",
    "        xx2 = np.minimum(x2[i], x2[order[1:]]) #array([ 360.,  360.,  358.])\n",
    "        yy2 = np.minimum(y2[i], y2[order[1:]]) #array([ 235.,  235.,  235.])\n",
    " \n",
    "        w = np.maximum(0.0, xx2 - xx1 + 1)   #array([ 104.,   81.,  104.])\n",
    "        h = np.maximum(0.0, yy2 - yy1 + 1)   #array([ 118.,  101.,  118.])\n",
    "        # 计算相交矩形面积\n",
    "        inter = w * h   #array([ 12272.,   8181.,  12272.])\n",
    " \n",
    "        # 计算IOU\n",
    "        # Cross Area / (bbox + particular area - Cross Area)\n",
    "        ovr = inter / (areas[i] + areas[order[1:]] - inter)\n",
    "        #reserve all the boundingbox whose ovr less than thresh\n",
    "        # 找出与当前置信率最高框相交小于阈值的框的索引\n",
    "        inds = np.where(ovr <= thresh)[0]\n",
    "        # 只保留比例小于阙值的框，然后继续处理\n",
    "        order = order[inds + 1]\n",
    " \n",
    "    return keep\n",
    "\n",
    "table_main = pd.read_csv('./result_two.csv', encoding='GBK',  header=0)\n",
    "table_main = table_main[['文件名', '虫子编号', '左上角x坐标', '左上角y坐标', '右下角x坐标', '右下角y坐标', 'conf']]"
   ]
  },
  {
   "cell_type": "code",
   "execution_count": 9,
   "metadata": {},
   "outputs": [
    {
     "name": "stdout",
     "output_type": "stream",
     "text": [
      "            文件名 虫子编号  左上角x坐标  左上角y坐标  右下角x坐标  右下角y坐标      conf\n",
      "0     00004.jpg  115  3612.0   681.0  3756.0   951.0  0.133291\n",
      "2     00004.jpg   10  2740.0   495.0  2814.0   583.0  0.859443\n",
      "1     00004.jpg   10  2952.0   989.0  3030.0  1111.0   0.80573\n",
      "5     00004.jpg   10  2115.0   250.0  2192.0   372.0  0.397118\n",
      "3     00004.jpg    9  2114.0   249.0  2194.0   372.0  0.414722\n",
      "...         ...  ...     ...     ...     ...     ...       ...\n",
      "4045  03812.jpg  280  3335.0  2631.0  3694.0  3006.0  0.925843\n",
      "4046  03812.jpg  280  1752.0  1794.0  2347.0  2155.0  0.136557\n",
      "4047  03813.jpg  280  2889.0    74.0  3260.0   353.0   0.92336\n",
      "4048  03813.jpg   10  2281.0   568.0  2344.0   675.0  0.964337\n",
      "4049  03813.jpg  256  1715.0  2911.0  1997.0  3291.0  0.945507\n",
      "\n",
      "[4049 rows x 7 columns]\n"
     ]
    }
   ],
   "source": [
    "result = pd.DataFrame(columns={'文件名':\"\", '虫子编号':\"\", '左上角x坐标':\"\", '左上角y坐标':\"\", '右下角x坐标':\"\", '右下角y坐标':\"\", 'conf':\"\"})\n",
    "img_list = list(table_main['文件名'].unique())\n",
    "\n",
    "for img in img_list:\n",
    "    table_tmp = table_main[table_main['文件名'] == img]\n",
    "    \n",
    "    id_list = list(table_tmp['虫子编号'].unique())\n",
    "    for id_insects in id_list:\n",
    "        table_tmp_in = table_tmp[table_tmp['虫子编号'] == id_insects]\n",
    "        \n",
    "        # print(table_tmp_in)\n",
    "        det = table_tmp_in[['左上角x坐标', '左上角y坐标', '右下角x坐标', '右下角y坐标', 'conf']]\n",
    "        det = np.array(det)\n",
    "        # 给出最后的标签\n",
    "        index  = py_cpu_nms(det,  thresh)\n",
    "        \n",
    "        result = pd.concat([result, table_tmp_in.iloc[index]], axis=0)\n",
    "        # print(table_tmp_in.iloc[index])\n",
    "\n",
    "print(result)\n",
    "\n",
    "result.to_csv('./out.csv', encoding=\"utf_8_sig\")"
   ]
  },
  {
   "cell_type": "code",
   "execution_count": null,
   "metadata": {},
   "outputs": [],
   "source": []
  }
 ],
 "metadata": {
  "interpreter": {
   "hash": "37a5428a8a9d96a42755ef37a9a4554d0bc3dd917c36a0c037d02fdae97ec71e"
  },
  "kernelspec": {
   "display_name": "Python 3.8.5 ('base')",
   "language": "python",
   "name": "python3"
  },
  "language_info": {
   "codemirror_mode": {
    "name": "ipython",
    "version": 3
   },
   "file_extension": ".py",
   "mimetype": "text/x-python",
   "name": "python",
   "nbconvert_exporter": "python",
   "pygments_lexer": "ipython3",
   "version": "3.8.5"
  },
  "orig_nbformat": 4
 },
 "nbformat": 4,
 "nbformat_minor": 2
}
