{
 "cells": [
  {
   "cell_type": "code",
   "execution_count": 10,
   "metadata": {},
   "outputs": [],
   "source": [
    "import pandas as pd\n",
    "from PIL import ImageDraw,Image,ImageFont\n",
    "import matplotlib.pyplot as plt"
   ]
  },
  {
   "cell_type": "code",
   "execution_count": 352,
   "metadata": {},
   "outputs": [],
   "source": [
    "img_name = '03808.jpg' #想看哪张图\n",
    "data_file = 'C:/Users/WZ/Desktop/result2.csv' #保存框数据的csv\n",
    "# ./rcnn_150_428.csv\n",
    "# ./yolo_result743.csv\n",
    "# ./附件2/图片虫子位置详情表.csv\n",
    "# ./main融合.csv\n",
    "\n",
    "img_file = 'E:/测试数据/测试数据/测试图像文件/' + img_name #保存了图片的文件夹路径\n",
    "# \n",
    "data = pd.read_csv(data_file, encoding='gbk') # gbk utf-8\n",
    "\n",
    "img_data = data[(data['文件名'] == img_name)]  #取出指定图片的所有数据\n",
    "\n",
    "img = Image.open(img_file) # 打开一张图片\n",
    "draw = ImageDraw.Draw(img)\n",
    "\n",
    "\n",
    "for index, row in img_data.iterrows():\n",
    "    id_insect = row['虫子编号']\n",
    "    # name_insect = row['虫子名称']\n",
    "    x_min = row['左上角x坐标']\n",
    "    x_max = row['右下角x坐标']\n",
    "    y_min = row['左上角y坐标']\n",
    "    y_max = row['右下角y坐标']\n",
    "    \n",
    "    draw.rectangle([x_min,y_min,x_max,y_max], outline='red', width=5)\n",
    "    draw.text((x_min,y_min-220), str(id_insect), font=ImageFont.truetype('SIMLI.TTF',220),fill='red')\n",
    "    # draw.text((x_min,y_min-220), str(id_insect) + ' ' + str(name_insect), font=ImageFont.truetype('SIMLI.TTF',220),fill='red')\n",
    "    \n",
    "img.show()\n",
    "# img.save('./' + img_name)"
   ]
  },
  {
   "cell_type": "code",
   "execution_count": null,
   "metadata": {},
   "outputs": [],
   "source": []
  }
 ],
 "metadata": {
  "interpreter": {
   "hash": "37a5428a8a9d96a42755ef37a9a4554d0bc3dd917c36a0c037d02fdae97ec71e"
  },
  "kernelspec": {
   "display_name": "Python 3.8.5 ('base')",
   "language": "python",
   "name": "python3"
  },
  "language_info": {
   "codemirror_mode": {
    "name": "ipython",
    "version": 3
   },
   "file_extension": ".py",
   "mimetype": "text/x-python",
   "name": "python",
   "nbconvert_exporter": "python",
   "pygments_lexer": "ipython3",
   "version": "3.8.5"
  },
  "orig_nbformat": 4
 },
 "nbformat": 4,
 "nbformat_minor": 2
}
