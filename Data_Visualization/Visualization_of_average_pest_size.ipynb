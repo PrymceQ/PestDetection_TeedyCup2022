{
 "cells": [
  {
   "cell_type": "code",
   "execution_count": 1,
   "metadata": {},
   "outputs": [],
   "source": [
    "import os\n",
    "import glob\n",
    "from PIL import Image\n",
    "import matplotlib.pyplot as plt\n",
    "# 查看每一种虫子的平均尺寸"
   ]
  },
  {
   "cell_type": "code",
   "execution_count": 2,
   "metadata": {},
   "outputs": [
    {
     "data": {
      "text/plain": [
       "[['6 大螟', 445, 488],\n",
       " ['7 二化螟', 433, 416],\n",
       " ['8 稻纵卷叶螟', 330, 332],\n",
       " ['9 白背飞虱', 134, 135],\n",
       " ['10 褐飞虱属', 129, 139],\n",
       " ['25 地老虎', 542, 490],\n",
       " ['41 蝼蛄', 798, 741],\n",
       " ['105 粘虫', 611, 574],\n",
       " ['110 草地螟', 356, 249],\n",
       " ['115 甜菜夜蛾', 380, 471],\n",
       " ['148 黄足猎蝽', 526, 437],\n",
       " ['156 八点灰灯蛾', 838, 750],\n",
       " ['222 棉铃虫', 696, 630],\n",
       " ['228 二点委夜蛾', 436, 416],\n",
       " ['235 甘蓝夜蛾', 612, 642],\n",
       " ['256 蟋蟀', 517, 528],\n",
       " ['280 黄毒蛾', 536, 473],\n",
       " ['310 稻螟蛉', 351, 343],\n",
       " ['387 紫条尺蛾', 597, 480],\n",
       " ['392 水螟蛾', 343, 339],\n",
       " ['394 线委夜蛾', 566, 558],\n",
       " ['398 甜菜白带野螟', 394, 401],\n",
       " ['401 歧角螟', 373, 348],\n",
       " ['402 瓜绢野螟', 615, 516],\n",
       " ['430 豆野螟', 565, 321],\n",
       " ['480 石蛾', 286, 313],\n",
       " ['485 大黑鳃金龟', 520, 478],\n",
       " ['673 干纹冬夜蛾', 683, 776]]"
      ]
     },
     "execution_count": 2,
     "metadata": {},
     "output_type": "execute_result"
    }
   ],
   "source": [
    "path = r'E:\\泰迪杯数据\\正式数据\\2022.04.06(正式数据)\\虫子种类的图片'\n",
    "insect_list = os.listdir(path)\n",
    "\n",
    "size_record = []\n",
    "\n",
    "for name in insect_list:\n",
    "    insect_files = path + r'\\\\' + name\n",
    "    img_files = os.listdir(insect_files)\n",
    "    # print(img_files)\n",
    "    \n",
    "    record_len = []\n",
    "    record_wid = []\n",
    "    for i in img_files:\n",
    "        img_filename = insect_files + r'\\\\' + i\n",
    "        img = Image.open(img_filename)\n",
    "        img_size =  img.size  #长和宽\n",
    "        record_len.append(img_size[0])\n",
    "        record_wid.append(img_size[1])\n",
    "        \n",
    "    avg_length = round(sum(record_len)/len(record_len))\n",
    "    avg_width = round(sum(record_wid)/len(record_wid))\n",
    "    \n",
    "    size_record.append([name, avg_length, avg_width])\n",
    "\n",
    "size_record = sorted(size_record, key = lambda x: int(x[0].split(' ')[0]))\n",
    "size_record"
   ]
  },
  {
   "cell_type": "code",
   "execution_count": 4,
   "metadata": {},
   "outputs": [
    {
     "name": "stderr",
     "output_type": "stream",
     "text": [
      "<ipython-input-4-1dc0184d3d20>:6: RuntimeWarning: More than 20 figures have been opened. Figures created through the pyplot interface (`matplotlib.pyplot.figure`) are retained until explicitly closed and may consume too much memory. (To control this warning, see the rcParam `figure.max_open_warning`).\n",
      "  plt.figure(figsize=(ii[1],ii[2]),dpi=1,facecolor='blue')\n"
     ]
    },
    {
     "data": {
      "text/plain": [
       "<Figure size 445x488 with 0 Axes>"
      ]
     },
     "metadata": {},
     "output_type": "display_data"
    },
    {
     "data": {
      "text/plain": [
       "<Figure size 433x416 with 0 Axes>"
      ]
     },
     "metadata": {},
     "output_type": "display_data"
    },
    {
     "data": {
      "text/plain": [
       "<Figure size 330x332 with 0 Axes>"
      ]
     },
     "metadata": {},
     "output_type": "display_data"
    },
    {
     "data": {
      "text/plain": [
       "<Figure size 134x135 with 0 Axes>"
      ]
     },
     "metadata": {},
     "output_type": "display_data"
    },
    {
     "data": {
      "text/plain": [
       "<Figure size 129x139 with 0 Axes>"
      ]
     },
     "metadata": {},
     "output_type": "display_data"
    },
    {
     "data": {
      "text/plain": [
       "<Figure size 542x490 with 0 Axes>"
      ]
     },
     "metadata": {},
     "output_type": "display_data"
    },
    {
     "data": {
      "text/plain": [
       "<Figure size 798x741 with 0 Axes>"
      ]
     },
     "metadata": {},
     "output_type": "display_data"
    },
    {
     "data": {
      "text/plain": [
       "<Figure size 611x574 with 0 Axes>"
      ]
     },
     "metadata": {},
     "output_type": "display_data"
    },
    {
     "data": {
      "text/plain": [
       "<Figure size 356x249 with 0 Axes>"
      ]
     },
     "metadata": {},
     "output_type": "display_data"
    },
    {
     "data": {
      "text/plain": [
       "<Figure size 380x471 with 0 Axes>"
      ]
     },
     "metadata": {},
     "output_type": "display_data"
    },
    {
     "data": {
      "text/plain": [
       "<Figure size 526x437 with 0 Axes>"
      ]
     },
     "metadata": {},
     "output_type": "display_data"
    },
    {
     "data": {
      "text/plain": [
       "<Figure size 838x750 with 0 Axes>"
      ]
     },
     "metadata": {},
     "output_type": "display_data"
    },
    {
     "data": {
      "text/plain": [
       "<Figure size 696x630 with 0 Axes>"
      ]
     },
     "metadata": {},
     "output_type": "display_data"
    },
    {
     "data": {
      "text/plain": [
       "<Figure size 436x416 with 0 Axes>"
      ]
     },
     "metadata": {},
     "output_type": "display_data"
    },
    {
     "data": {
      "text/plain": [
       "<Figure size 612x642 with 0 Axes>"
      ]
     },
     "metadata": {},
     "output_type": "display_data"
    },
    {
     "data": {
      "text/plain": [
       "<Figure size 517x528 with 0 Axes>"
      ]
     },
     "metadata": {},
     "output_type": "display_data"
    },
    {
     "data": {
      "text/plain": [
       "<Figure size 536x473 with 0 Axes>"
      ]
     },
     "metadata": {},
     "output_type": "display_data"
    },
    {
     "data": {
      "text/plain": [
       "<Figure size 351x343 with 0 Axes>"
      ]
     },
     "metadata": {},
     "output_type": "display_data"
    },
    {
     "data": {
      "text/plain": [
       "<Figure size 597x480 with 0 Axes>"
      ]
     },
     "metadata": {},
     "output_type": "display_data"
    },
    {
     "data": {
      "text/plain": [
       "<Figure size 343x339 with 0 Axes>"
      ]
     },
     "metadata": {},
     "output_type": "display_data"
    },
    {
     "data": {
      "text/plain": [
       "<Figure size 566x558 with 0 Axes>"
      ]
     },
     "metadata": {},
     "output_type": "display_data"
    },
    {
     "data": {
      "text/plain": [
       "<Figure size 394x401 with 0 Axes>"
      ]
     },
     "metadata": {},
     "output_type": "display_data"
    },
    {
     "data": {
      "text/plain": [
       "<Figure size 373x348 with 0 Axes>"
      ]
     },
     "metadata": {},
     "output_type": "display_data"
    },
    {
     "data": {
      "text/plain": [
       "<Figure size 615x516 with 0 Axes>"
      ]
     },
     "metadata": {},
     "output_type": "display_data"
    },
    {
     "data": {
      "text/plain": [
       "<Figure size 565x321 with 0 Axes>"
      ]
     },
     "metadata": {},
     "output_type": "display_data"
    },
    {
     "data": {
      "text/plain": [
       "<Figure size 286x313 with 0 Axes>"
      ]
     },
     "metadata": {},
     "output_type": "display_data"
    },
    {
     "data": {
      "text/plain": [
       "<Figure size 520x478 with 0 Axes>"
      ]
     },
     "metadata": {},
     "output_type": "display_data"
    },
    {
     "data": {
      "text/plain": [
       "<Figure size 683x776 with 0 Axes>"
      ]
     },
     "metadata": {},
     "output_type": "display_data"
    }
   ],
   "source": [
    "output_path = r'C:\\Users\\AW15957422232\\Desktop\\output'\n",
    "plt.rcParams['font.sans-serif']=['SimHei']\n",
    "plt.rcParams['axes.unicode_minus'] = False\n",
    "\n",
    "for ii in size_record:\n",
    "    plt.figure(figsize=(ii[1],ii[2]),dpi=1,facecolor='blue')\n",
    "    plt.savefig(output_path + r'\\\\' + ii[0] + '.png')"
   ]
  },
  {
   "cell_type": "code",
   "execution_count": null,
   "metadata": {},
   "outputs": [],
   "source": []
  }
 ],
 "metadata": {
  "interpreter": {
   "hash": "37a5428a8a9d96a42755ef37a9a4554d0bc3dd917c36a0c037d02fdae97ec71e"
  },
  "kernelspec": {
   "display_name": "Python 3.8.5 ('base')",
   "language": "python",
   "name": "python3"
  },
  "language_info": {
   "codemirror_mode": {
    "name": "ipython",
    "version": 3
   },
   "file_extension": ".py",
   "mimetype": "text/x-python",
   "name": "python",
   "nbconvert_exporter": "python",
   "pygments_lexer": "ipython3",
   "version": "3.8.5"
  },
  "orig_nbformat": 4
 },
 "nbformat": 4,
 "nbformat_minor": 2
}
